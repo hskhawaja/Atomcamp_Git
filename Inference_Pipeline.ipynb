{
 "cells": [
  {
   "cell_type": "markdown",
   "id": "37594898",
   "metadata": {},
   "source": [
    "### Installations"
   ]
  },
  {
   "cell_type": "code",
   "execution_count": 1,
   "id": "7bbbffe7",
   "metadata": {
    "jupyter": {
     "source_hidden": true
    }
   },
   "outputs": [],
   "source": [
    "%%capture\n",
    "\n",
    "!pip install datasets==1.13.3\n",
    "!pip install transformers==4.11.3\n",
    "!pip install pyspellchecker\n",
    "!pip install symspellpy\n",
    "!pip install jiwer\n",
    "!pip install s3fs\n",
    "!pip install boto3\n",
    "!pip install hazm\n",
    "\n",
    "print('everything installed')"
   ]
  },
  {
   "cell_type": "markdown",
   "id": "522649ef",
   "metadata": {},
   "source": [
    "### Imports"
   ]
  },
  {
   "cell_type": "code",
   "execution_count": 5,
   "id": "aad7a212",
   "metadata": {},
   "outputs": [],
   "source": [
    "# importing relevant libraries\n",
    "import re\n",
    "import sys\n",
    "import torch\n",
    "import warnings\n",
    "import torchaudio\n",
    "from spellchecker import SpellChecker\n",
    "from hazm import word_tokenize, Normalizer\n",
    "from symspellpy import SymSpell, Verbosity\n",
    "from datasets import load_dataset, load_metric\n",
    "from transformers import Wav2Vec2ForCTC, Wav2Vec2Processor"
   ]
  },
  {
   "cell_type": "markdown",
   "id": "3d38e8e8",
   "metadata": {},
   "source": [
    "### Global Variables"
   ]
  },
  {
   "cell_type": "code",
   "execution_count": 6,
   "id": "6d22f280",
   "metadata": {},
   "outputs": [],
   "source": [
    "# ignore warnings\n",
    "warnings.simplefilter(\"ignore\")\n",
    "\n",
    "# conditional inference\n",
    "DEVICE = torch.device(\"cuda\" if torch.cuda.is_available() else \"cpu\")\n",
    "\n",
    "# initializing spell-checker parameters\n",
    "spell = SpellChecker(distance=1, language='de')\n",
    "sym_spell = SymSpell(max_dictionary_edit_distance=2, prefix_length=7)\n",
    "dictionary_path = \"wiki_fa_80k.txt\"\n",
    "_normalizer = Normalizer()"
   ]
  },
  {
   "cell_type": "markdown",
   "id": "f1596e07",
   "metadata": {},
   "source": [
    "### Helper Functions"
   ]
  },
  {
   "cell_type": "code",
   "execution_count": 7,
   "id": "bc85bef5",
   "metadata": {},
   "outputs": [],
   "source": [
    "def get_model_id(lang_id):\n",
    "    if lang_id == 'de':\n",
    "        return 'facebook/wav2vec2-large-xlsr-53-german'\n",
    "    \n",
    "    elif lang_id == 'fa':\n",
    "        return 'm3hrdadfi/wav2vec2-large-xlsr-persian'\n",
    "    \n",
    "    else:\n",
    "        return False\n",
    "\n",
    "def load_model(lang_id):\n",
    "    model_id = get_model_id(lang_id)\n",
    "    if model_id:\n",
    "        model = Wav2Vec2ForCTC.from_pretrained(model_id).to(DEVICE)\n",
    "        processor = Wav2Vec2Processor.from_pretrained(model_id)\n",
    "        return model, processor\n",
    "    else:\n",
    "        return None, None"
   ]
  },
  {
   "cell_type": "markdown",
   "id": "5ccc8469",
   "metadata": {},
   "source": [
    "### Spell Checker"
   ]
  },
  {
   "cell_type": "code",
   "execution_count": 8,
   "id": "5504efff",
   "metadata": {},
   "outputs": [],
   "source": [
    "def spell_check(sentence, lang_id):\n",
    "    if lang_id == 'de':\n",
    "        sentence = ' '.join([spell.correction(word) for word in sentence.split()])\n",
    "        return sentence\n",
    "    \n",
    "    if lang_id == 'fa':\n",
    "        sentence = normalizer.normalize(sentence)\n",
    "        sentence = ' '.join([sym_spell.lookup(word, Verbosity.ALL, max_edit_distance=1)[0].term \n",
    "                             if sym_spell.lookup(word, Verbosity.ALL, max_edit_distance=2) else word\n",
    "                             for word in word_tokenize(sentence)])\n",
    "        return sentence\n",
    "    \n",
    "    return sentence"
   ]
  },
  {
   "cell_type": "markdown",
   "id": "f434cebe",
   "metadata": {},
   "source": [
    "### Inference"
   ]
  },
  {
   "cell_type": "code",
   "execution_count": 20,
   "id": "d8ebba2e",
   "metadata": {},
   "outputs": [],
   "source": [
    "def predict(audio, lang_id, model, processor):\n",
    "    speech, orig_freq = torchaudio.load(audio)\n",
    "    resampler = torchaudio.transforms.Resample(orig_freq=orig_freq, new_freq=16_000)\n",
    "    speech = resampler.forward(speech.squeeze(0)).numpy()\n",
    "    sampling_rate = resampler.new_freq\n",
    "    features = processor(speech, sampling_rate=sampling_rate, return_tensors=\"pt\")\n",
    "    input_values = features.input_values.to(DEVICE)\n",
    "    attention_mask = features.attention_mask.to(DEVICE)\n",
    "    with torch.no_grad():\n",
    "        logits = model(input_values, attention_mask=attention_mask).logits\n",
    "    pred_ids = torch.argmax(logits, dim=-1)\n",
    "    predicted = processor.batch_decode(pred_ids)\n",
    "    predicted = spell_check(predicted[0], LANG_ID)\n",
    "    return predicted"
   ]
  },
  {
   "cell_type": "markdown",
   "id": "89d143e4",
   "metadata": {},
   "source": [
    "### Test"
   ]
  },
  {
   "cell_type": "code",
   "execution_count": 24,
   "id": "98b80607",
   "metadata": {},
   "outputs": [
    {
     "name": "stderr",
     "output_type": "stream",
     "text": [
      "2022-07-20 20:59:58,221 WARNING:Using custom data configuration de-ac779bf2c9f7c09b\n",
      "2022-07-20 20:59:58,232 WARNING:Reusing dataset common_voice (/home/ec2-user/.cache/huggingface/datasets/common_voice/de-ac779bf2c9f7c09b/6.1.0/f7a9d973839b7706e9e281c19b7e512f31badf3c0fdbd21c671f3c4bf9acf3b9)\n",
      "Special tokens have been added in the vocabulary, make sure the associated word embeddings are fine-tuned or trained.\n"
     ]
    }
   ],
   "source": [
    "lang_id = 'fa'\n",
    "SAMPLES = 10\n",
    "test_dataset = load_dataset(\"common_voice\", LANG_ID, split=f\"test[:{SAMPLES}]\", data_dir=\"./cv-corpus-6.1-2020-12-11\",\n",
    "                           keep_in_memory=True)\n",
    "model, processor = (load_model(lang_id))"
   ]
  },
  {
   "cell_type": "code",
   "execution_count": 25,
   "id": "fdc7295f",
   "metadata": {},
   "outputs": [
    {
     "name": "stdout",
     "output_type": "stream",
     "text": [
      "فلیط بید اه نعاف ما لخن اون که بم ریک لنگ دید لیسته\n"
     ]
    }
   ],
   "source": [
    "audio = test_dataset[3]['path']\n",
    "prediction = predict(audio, lang_id, model, processor)\n",
    "print(prediction)"
   ]
  },
  {
   "cell_type": "code",
   "execution_count": 26,
   "id": "f1bb1a26",
   "metadata": {},
   "outputs": [
    {
     "name": "stderr",
     "output_type": "stream",
     "text": [
      "2022-07-20 21:00:10,982 WARNING:Using custom data configuration de-ac779bf2c9f7c09b\n",
      "2022-07-20 21:00:10,990 WARNING:Reusing dataset common_voice (/home/ec2-user/.cache/huggingface/datasets/common_voice/de-ac779bf2c9f7c09b/6.1.0/f7a9d973839b7706e9e281c19b7e512f31badf3c0fdbd21c671f3c4bf9acf3b9)\n"
     ]
    }
   ],
   "source": [
    "lang_id = 'de'\n",
    "SAMPLES = 10\n",
    "test_dataset = load_dataset(\"common_voice\", LANG_ID, split=f\"test[:{SAMPLES}]\", data_dir=\"./cv-corpus-6.1-2020-12-11\",\n",
    "                           keep_in_memory=True)\n",
    "model, processor = (load_model(lang_id))"
   ]
  },
  {
   "cell_type": "code",
   "execution_count": 27,
   "id": "71e2d933",
   "metadata": {},
   "outputs": [
    {
     "name": "stdout",
     "output_type": "stream",
     "text": [
      "fhelippehat eine auch für monarchen ungewöhnlich lange titelliste\n"
     ]
    }
   ],
   "source": [
    "audio = test_dataset[3]['path']\n",
    "prediction = predict(audio, lang_id, model, processor)\n",
    "print(prediction)"
   ]
  },
  {
   "cell_type": "code",
   "execution_count": null,
   "id": "4ba51edf",
   "metadata": {},
   "outputs": [],
   "source": []
  }
 ],
 "metadata": {
  "kernelspec": {
   "display_name": "conda_pytorch_p38",
   "language": "python",
   "name": "conda_pytorch_p38"
  },
  "language_info": {
   "codemirror_mode": {
    "name": "ipython",
    "version": 3
   },
   "file_extension": ".py",
   "mimetype": "text/x-python",
   "name": "python",
   "nbconvert_exporter": "python",
   "pygments_lexer": "ipython3",
   "version": "3.8.12"
  }
 },
 "nbformat": 4,
 "nbformat_minor": 5
}
